{
 "cells": [
  {
   "cell_type": "markdown",
   "metadata": {
    "colab_type": "text",
    "id": "3DR-eO17geWu"
   },
   "source": [
    "# Convolutional Neural Network"
   ]
  },
  {
   "cell_type": "markdown",
   "metadata": {},
   "source": [
    "## Using CNN Predict the image uploaded is Micro-structure or XRD"
   ]
  },
  {
   "cell_type": "markdown",
   "metadata": {
    "colab_type": "text",
    "id": "EMefrVPCg-60"
   },
   "source": [
    "### Importing the libraries"
   ]
  },
  {
   "cell_type": "code",
   "execution_count": 1,
   "metadata": {
    "colab": {},
    "colab_type": "code",
    "id": "sCV30xyVhFbE"
   },
   "outputs": [],
   "source": [
    "import numpy as np\n",
    "import tensorflow as tf\n",
    "from keras.preprocessing.image import ImageDataGenerator\n",
    "from keras.preprocessing import image"
   ]
  },
  {
   "cell_type": "code",
   "execution_count": 2,
   "metadata": {
    "colab": {},
    "colab_type": "code",
    "id": "FIleuCAjoFD8"
   },
   "outputs": [
    {
     "data": {
      "text/plain": [
       "'2.9.1'"
      ]
     },
     "execution_count": 2,
     "metadata": {},
     "output_type": "execute_result"
    }
   ],
   "source": [
    "tf.__version__"
   ]
  },
  {
   "cell_type": "markdown",
   "metadata": {
    "colab_type": "text",
    "id": "oxQxCBWyoGPE"
   },
   "source": [
    "## Part 1 - Data Preprocessing"
   ]
  },
  {
   "cell_type": "markdown",
   "metadata": {
    "colab_type": "text",
    "id": "MvE-heJNo3GG"
   },
   "source": [
    "### Preprocessing the Training set"
   ]
  },
  {
   "cell_type": "markdown",
   "metadata": {},
   "source": [
    "#### Explaining the various parameter, ImageDataGenerator: \"rescale=1./255\" appling the feature scaling on to the CNN, To develope the color in RGB the 255 is used. \"shear_range = 0.2,zoom_range = 0.2,horizontal_flip = True\" Tranformation that will perform image augmentation on the image training set, This is in order to prevent overfitting.\n",
    "#### In Flow_from_directory('LOAD THE DIRECTORY OF DATASET')\n",
    "#### \"target_size = (64, 64)\" changing the value will better perform the model can try taget_size = (150,150).\n",
    "#### \"batch_size = 32\" how many batches should be made.\n",
    "##### \"class_mode = 'binary'\" To get only output in the end we use binary (1 or 0 ) \"'catogeries'\" is also on the form used in class_mode."
   ]
  },
  {
   "cell_type": "code",
   "execution_count": 3,
   "metadata": {
    "colab": {},
    "colab_type": "code",
    "id": "0koUcJMJpEBD"
   },
   "outputs": [
    {
     "name": "stdout",
     "output_type": "stream",
     "text": [
      "Found 130 images belonging to 2 classes.\n"
     ]
    }
   ],
   "source": [
    "train_datagen = ImageDataGenerator(rescale = 1./255,\n",
    "                                   shear_range = 0.2,\n",
    "                                   zoom_range = 0.2,\n",
    "                                   horizontal_flip = True)\n",
    "training_set = train_datagen.flow_from_directory('dataset_ai/training_set_1',\n",
    "                                                 target_size = (64, 64),\n",
    "                                                 batch_size = 32,\n",
    "                                                 class_mode = 'binary')"
   ]
  },
  {
   "cell_type": "markdown",
   "metadata": {
    "colab_type": "text",
    "id": "mrCMmGw9pHys"
   },
   "source": [
    "### Preprocessing the Test set"
   ]
  },
  {
   "cell_type": "markdown",
   "metadata": {},
   "source": [
    "##### we do not Tranformation that will perform image augmentation on the image test set."
   ]
  },
  {
   "cell_type": "code",
   "execution_count": 4,
   "metadata": {
    "colab": {},
    "colab_type": "code",
    "id": "SH4WzfOhpKc3"
   },
   "outputs": [
    {
     "name": "stdout",
     "output_type": "stream",
     "text": [
      "Found 130 images belonging to 2 classes.\n"
     ]
    }
   ],
   "source": [
    "test_datagen = ImageDataGenerator(rescale = 1./255)\n",
    "test_set = test_datagen.flow_from_directory('dataset_ai/test_set_1',\n",
    "                                            target_size = (64, 64),\n",
    "                                            batch_size = 32,\n",
    "                                            class_mode = 'binary')"
   ]
  },
  {
   "cell_type": "markdown",
   "metadata": {
    "colab_type": "text",
    "id": "af8O4l90gk7B"
   },
   "source": [
    "## Part 2 - Building the CNN"
   ]
  },
  {
   "cell_type": "markdown",
   "metadata": {
    "colab_type": "text",
    "id": "ces1gXY2lmoX"
   },
   "source": [
    "### Initialising the CNN"
   ]
  },
  {
   "cell_type": "markdown",
   "metadata": {},
   "source": [
    "#### Sequential is used to build the model in sequential layer one over other."
   ]
  },
  {
   "cell_type": "code",
   "execution_count": 5,
   "metadata": {
    "colab": {},
    "colab_type": "code",
    "id": "SAUt4UMPlhLS"
   },
   "outputs": [],
   "source": [
    "cnn = tf.keras.models.Sequential()"
   ]
  },
  {
   "cell_type": "markdown",
   "metadata": {
    "colab_type": "text",
    "id": "u5YJj_XMl5LF"
   },
   "source": [
    "### Step 1 - Convolution"
   ]
  },
  {
   "cell_type": "markdown",
   "metadata": {},
   "source": [
    "#### Convolution is basically a combined equation of two functions it shows how one function modifies the other. \n",
    "#### The process takes place by inputing image --> feature detector --> feature map or activation map.\n",
    "#### Feature detector highlights the feature in the image\n",
    "#### Feature detector is matrix which is put over input image basically we multiply each value by each value and obtain the feature map.\n",
    "#### Many more combination feature maps are created than a single map.\n",
    "#### Benfit is we can reduce the size of image."
   ]
  },
  {
   "cell_type": "markdown",
   "metadata": {},
   "source": [
    "#### ReLu (rectifier linear unit)\n",
    "#### The rectifier is because we want to increase the non linearity in our image or in the network.\n",
    "#### rectifier acts as a filter or access that function which breaks linearity.\n",
    "#### when we apply mathematical operations such as convolution. we risk that we might create something linear and therfore we need to break the linearity.\n",
    "#### There are 3 types of activation functions sigmoid, ReLu , leaky Relu"
   ]
  },
  {
   "cell_type": "markdown",
   "metadata": {},
   "source": [
    "#### input_shape = [64,64,3] \"3\" is for color image and we can change it to \"1\" if black and white image. "
   ]
  },
  {
   "cell_type": "code",
   "execution_count": 6,
   "metadata": {
    "colab": {},
    "colab_type": "code",
    "id": "XPzPrMckl-hV"
   },
   "outputs": [],
   "source": [
    "cnn.add(tf.keras.layers.Conv2D(filters=32, kernel_size=3, activation='relu', input_shape=[64, 64, 3]))"
   ]
  },
  {
   "cell_type": "markdown",
   "metadata": {
    "colab_type": "text",
    "id": "tf87FpvxmNOJ"
   },
   "source": [
    "### Step 2 - Pooling"
   ]
  },
  {
   "cell_type": "markdown",
   "metadata": {},
   "source": [
    "#### Max-Pooling: learning from feature. \n",
    "#### The feature can be in the image tilted, straight, or anywhere in the image to classify.\n",
    "#### Max pooling is getting the maximum in the matrix and reducing the size to better perform of the CNN.\n",
    "#### By pooling we get rid of 75% of information thats not the feature and feature is not important.\n",
    "#### Feature map --> max pooling  --> pooled feature map.\n",
    "#### Pooling also prevents overfitting it is very important benifit."
   ]
  },
  {
   "cell_type": "markdown",
   "metadata": {},
   "source": [
    "#### why max pooling?"
   ]
  },
  {
   "cell_type": "markdown",
   "metadata": {},
   "source": [
    "#### Pooling mainly helps in extracting sharp and smooth edges."
   ]
  },
  {
   "cell_type": "markdown",
   "metadata": {},
   "source": [
    "#### \"strides= 2\" is that at what columns we want to shift the matrix for max pooling."
   ]
  },
  {
   "cell_type": "code",
   "execution_count": 7,
   "metadata": {
    "colab": {},
    "colab_type": "code",
    "id": "ncpqPl69mOac"
   },
   "outputs": [],
   "source": [
    "cnn.add(tf.keras.layers.MaxPool2D(pool_size=2, strides=2))"
   ]
  },
  {
   "cell_type": "markdown",
   "metadata": {
    "colab_type": "text",
    "id": "xaTOgD8rm4mU"
   },
   "source": [
    "### Adding a second convolutional layer"
   ]
  },
  {
   "cell_type": "markdown",
   "metadata": {},
   "source": [
    "#### Adding many layers to the CNN "
   ]
  },
  {
   "cell_type": "code",
   "execution_count": 8,
   "metadata": {
    "colab": {},
    "colab_type": "code",
    "id": "i_-FZjn_m8gk"
   },
   "outputs": [],
   "source": [
    "cnn.add(tf.keras.layers.Conv2D(filters=32, kernel_size=3, activation='relu'))\n",
    "cnn.add(tf.keras.layers.MaxPool2D(pool_size=2, strides=2))"
   ]
  },
  {
   "cell_type": "markdown",
   "metadata": {
    "colab_type": "text",
    "id": "tmiEuvTunKfk"
   },
   "source": [
    "## Step 3 - Flattening"
   ]
  },
  {
   "cell_type": "markdown",
   "metadata": {},
   "source": [
    "#### Flattening converts the matrix into a column we are doing this falttening to input the columns into the artificial neural network for furthur processing.\n",
    "#### Inputing image --> Feature detector --> Feature map or Activation map --> Max pooling  --> Pooled feature map --> Flattening --> Vertical columns. \n"
   ]
  },
  {
   "cell_type": "code",
   "execution_count": 9,
   "metadata": {
    "colab": {},
    "colab_type": "code",
    "id": "6AZeOGCvnNZn"
   },
   "outputs": [],
   "source": [
    "cnn.add(tf.keras.layers.Flatten())"
   ]
  },
  {
   "cell_type": "markdown",
   "metadata": {
    "colab_type": "text",
    "id": "dAoSECOm203v"
   },
   "source": [
    "### Step 4 - Full Connection"
   ]
  },
  {
   "cell_type": "markdown",
   "metadata": {},
   "source": [
    "#### Full Connection is related to Artificial Neutral Network.\n",
    "#### In ANN there many neurons which support and build the networks and calibrates the features which are responsible for prediction. \n",
    "#### After flattening the columns which are feature of the images are decoded and are used for prediction.\n",
    "####  The network is supported with forward propogation and backwards propogration.\n",
    "#### The network or the procedure which goes from Flattening to the final outpu is known as forward propogration.\n",
    "#### backward propogration: After the prediction is made by ANN and runs through the feedback system. \n",
    "#### A lot science and maths with gradient descent with back propogration helps the model to perform better."
   ]
  },
  {
   "cell_type": "markdown",
   "metadata": {},
   "source": [
    "#### \"units = 128\" Here units define the number of hidden layerss in the CNN."
   ]
  },
  {
   "cell_type": "code",
   "execution_count": 10,
   "metadata": {
    "colab": {},
    "colab_type": "code",
    "id": "8GtmUlLd26Nq"
   },
   "outputs": [],
   "source": [
    "cnn.add(tf.keras.layers.Dense(units=128, activation='relu'))"
   ]
  },
  {
   "cell_type": "markdown",
   "metadata": {
    "colab_type": "text",
    "id": "yTldFvbX28Na"
   },
   "source": [
    "### Step 5 - Output Layer"
   ]
  },
  {
   "cell_type": "markdown",
   "metadata": {},
   "source": [
    "#### \"units = 1\" we need only one output at the ANN. "
   ]
  },
  {
   "cell_type": "code",
   "execution_count": 11,
   "metadata": {
    "colab": {},
    "colab_type": "code",
    "id": "1p_Zj1Mc3Ko_"
   },
   "outputs": [],
   "source": [
    "cnn.add(tf.keras.layers.Dense(units=1, activation='sigmoid'))"
   ]
  },
  {
   "cell_type": "markdown",
   "metadata": {
    "colab_type": "text",
    "id": "D6XkI90snSDl"
   },
   "source": [
    "## Part 3 - Training the CNN"
   ]
  },
  {
   "cell_type": "markdown",
   "metadata": {
    "colab_type": "text",
    "id": "vfrFQACEnc6i"
   },
   "source": [
    "### Compiling the CNN"
   ]
  },
  {
   "cell_type": "code",
   "execution_count": 12,
   "metadata": {
    "colab": {},
    "colab_type": "code",
    "id": "NALksrNQpUlJ"
   },
   "outputs": [],
   "source": [
    "cnn.compile(optimizer = 'adam', loss = 'binary_crossentropy', metrics = ['accuracy'])"
   ]
  },
  {
   "cell_type": "markdown",
   "metadata": {
    "colab_type": "text",
    "id": "ehS-v3MIpX2h"
   },
   "source": [
    "### Training the CNN on the Training set and evaluating it on the Test set"
   ]
  },
  {
   "cell_type": "markdown",
   "metadata": {},
   "source": [
    "#### In other network train and test set are evaluted seperately but in CNN train test set are passed through a single line of code where epochs is how many times the data will tested. the value of epochs are varies between 10,15,25 to get more accurate results."
   ]
  },
  {
   "cell_type": "code",
   "execution_count": 13,
   "metadata": {
    "colab": {},
    "colab_type": "code",
    "id": "XUj1W4PJptta"
   },
   "outputs": [
    {
     "name": "stdout",
     "output_type": "stream",
     "text": [
      "Epoch 1/25\n",
      "5/5 [==============================] - 2s 357ms/step - loss: 0.6254 - accuracy: 0.7462 - val_loss: 0.7862 - val_accuracy: 0.0231\n",
      "Epoch 2/25\n",
      "5/5 [==============================] - 1s 168ms/step - loss: 0.4612 - accuracy: 0.8231 - val_loss: 2.5160 - val_accuracy: 0.2462\n",
      "Epoch 3/25\n",
      "5/5 [==============================] - 1s 199ms/step - loss: 0.4335 - accuracy: 0.7615 - val_loss: 1.2328 - val_accuracy: 0.0154\n",
      "Epoch 4/25\n",
      "5/5 [==============================] - 1s 169ms/step - loss: 0.3002 - accuracy: 0.9385 - val_loss: 2.3586 - val_accuracy: 0.0231\n",
      "Epoch 5/25\n",
      "5/5 [==============================] - 1s 196ms/step - loss: 0.2042 - accuracy: 0.8923 - val_loss: 2.4114 - val_accuracy: 0.0615\n",
      "Epoch 6/25\n",
      "5/5 [==============================] - 1s 193ms/step - loss: 0.0916 - accuracy: 0.9769 - val_loss: 3.2344 - val_accuracy: 0.0615\n",
      "Epoch 7/25\n",
      "5/5 [==============================] - 1s 203ms/step - loss: 0.0782 - accuracy: 0.9692 - val_loss: 5.3734 - val_accuracy: 0.0154\n",
      "Epoch 8/25\n",
      "5/5 [==============================] - 1s 213ms/step - loss: 0.0723 - accuracy: 0.9769 - val_loss: 5.0163 - val_accuracy: 0.0385\n",
      "Epoch 9/25\n",
      "5/5 [==============================] - 1s 237ms/step - loss: 0.2450 - accuracy: 0.9154 - val_loss: 6.6653 - val_accuracy: 0.0077\n",
      "Epoch 10/25\n",
      "5/5 [==============================] - 1s 172ms/step - loss: 0.2038 - accuracy: 0.9077 - val_loss: 5.8778 - val_accuracy: 0.0154\n",
      "Epoch 11/25\n",
      "5/5 [==============================] - 1s 162ms/step - loss: 0.0998 - accuracy: 0.9538 - val_loss: 2.8046 - val_accuracy: 0.2000\n",
      "Epoch 12/25\n",
      "5/5 [==============================] - 1s 168ms/step - loss: 0.0531 - accuracy: 0.9846 - val_loss: 6.3767 - val_accuracy: 0.0154\n",
      "Epoch 13/25\n",
      "5/5 [==============================] - 1s 169ms/step - loss: 0.0817 - accuracy: 0.9692 - val_loss: 2.6102 - val_accuracy: 0.2077\n",
      "Epoch 14/25\n",
      "5/5 [==============================] - 1s 188ms/step - loss: 0.1174 - accuracy: 0.9385 - val_loss: 7.0278 - val_accuracy: 0.0077\n",
      "Epoch 15/25\n",
      "5/5 [==============================] - 1s 206ms/step - loss: 0.1824 - accuracy: 0.9154 - val_loss: 7.4557 - val_accuracy: 0.0154\n",
      "Epoch 16/25\n",
      "5/5 [==============================] - 1s 196ms/step - loss: 0.0763 - accuracy: 0.9692 - val_loss: 3.9793 - val_accuracy: 0.0615\n",
      "Epoch 17/25\n",
      "5/5 [==============================] - 1s 167ms/step - loss: 0.0661 - accuracy: 0.9923 - val_loss: 3.9559 - val_accuracy: 0.0923\n",
      "Epoch 18/25\n",
      "5/5 [==============================] - 1s 193ms/step - loss: 0.0288 - accuracy: 0.9923 - val_loss: 6.0634 - val_accuracy: 0.0154\n",
      "Epoch 19/25\n",
      "5/5 [==============================] - 1s 165ms/step - loss: 0.0422 - accuracy: 0.9769 - val_loss: 6.8592 - val_accuracy: 0.0077\n",
      "Epoch 20/25\n",
      "5/5 [==============================] - 1s 172ms/step - loss: 0.0318 - accuracy: 0.9923 - val_loss: 5.8720 - val_accuracy: 0.0231\n",
      "Epoch 21/25\n",
      "5/5 [==============================] - 1s 196ms/step - loss: 0.0183 - accuracy: 1.0000 - val_loss: 5.6927 - val_accuracy: 0.0308\n",
      "Epoch 22/25\n",
      "5/5 [==============================] - 1s 194ms/step - loss: 0.0156 - accuracy: 1.0000 - val_loss: 6.8820 - val_accuracy: 0.0154\n",
      "Epoch 23/25\n",
      "5/5 [==============================] - 1s 171ms/step - loss: 0.0106 - accuracy: 1.0000 - val_loss: 7.5482 - val_accuracy: 0.0077\n",
      "Epoch 24/25\n",
      "5/5 [==============================] - 1s 164ms/step - loss: 0.0109 - accuracy: 1.0000 - val_loss: 7.1961 - val_accuracy: 0.0154\n",
      "Epoch 25/25\n",
      "5/5 [==============================] - 1s 205ms/step - loss: 0.0094 - accuracy: 1.0000 - val_loss: 6.9685 - val_accuracy: 0.0231\n"
     ]
    },
    {
     "data": {
      "text/plain": [
       "<keras.callbacks.History at 0x2004154abe0>"
      ]
     },
     "execution_count": 13,
     "metadata": {},
     "output_type": "execute_result"
    }
   ],
   "source": [
    "cnn.fit(x = training_set, validation_data = test_set, epochs = 25)"
   ]
  },
  {
   "cell_type": "markdown",
   "metadata": {
    "colab_type": "text",
    "id": "U3PZasO0006Z"
   },
   "source": [
    "## Part 4 - Making a single prediction"
   ]
  },
  {
   "cell_type": "markdown",
   "metadata": {},
   "source": [
    "#### By changing the path we can predict the image is XRD or MICRO STRUCTURE"
   ]
  },
  {
   "cell_type": "code",
   "execution_count": 14,
   "metadata": {
    "colab": {},
    "colab_type": "code",
    "id": "gsSiWEJY1BPB"
   },
   "outputs": [
    {
     "name": "stdout",
     "output_type": "stream",
     "text": [
      "1/1 [==============================] - 0s 129ms/step\n"
     ]
    }
   ],
   "source": [
    "path = 'dataset_ai/single_prediction_1/xrd_micro_1.jpg'\n",
    "\n",
    "image = tf.keras.preprocessing.image.load_img(path, target_size = (64, 64))\n",
    "input_arr = tf.keras.preprocessing.image.img_to_array(image)\n",
    "image = np.expand_dims(image, axis = 0)\n",
    "result = cnn.predict(image)\n",
    "training_set.class_indices\n",
    "if result[0][0] == 1:\n",
    "  prediction = 'XRD'\n",
    "else:\n",
    "  prediction = 'Micro-structure'"
   ]
  },
  {
   "cell_type": "code",
   "execution_count": 15,
   "metadata": {
    "colab": {},
    "colab_type": "code",
    "id": "ED9KB3I54c1i"
   },
   "outputs": [
    {
     "name": "stdout",
     "output_type": "stream",
     "text": [
      "Micro-structure\n"
     ]
    }
   ],
   "source": [
    "print(prediction)"
   ]
  },
  {
   "cell_type": "code",
   "execution_count": null,
   "metadata": {},
   "outputs": [],
   "source": []
  }
 ],
 "metadata": {
  "colab": {
   "collapsed_sections": [],
   "name": "convolutional_neural_network.ipynb",
   "provenance": [],
   "toc_visible": true
  },
  "kernelspec": {
   "display_name": "Python 3 (ipykernel)",
   "language": "python",
   "name": "python3"
  },
  "language_info": {
   "codemirror_mode": {
    "name": "ipython",
    "version": 3
   },
   "file_extension": ".py",
   "mimetype": "text/x-python",
   "name": "python",
   "nbconvert_exporter": "python",
   "pygments_lexer": "ipython3",
   "version": "3.9.12"
  }
 },
 "nbformat": 4,
 "nbformat_minor": 1
}
